{
 "cells": [
  {
   "cell_type": "code",
   "execution_count": 5,
   "id": "2d094020",
   "metadata": {},
   "outputs": [],
   "source": [
    "!source activate NLP"
   ]
  },
  {
   "cell_type": "code",
   "execution_count": 6,
   "id": "3ba01745",
   "metadata": {},
   "outputs": [
    {
     "name": "stderr",
     "output_type": "stream",
     "text": [
      "[nltk_data] Downloading package vader_lexicon to\n",
      "[nltk_data]     /Users/Aqqes/nltk_data...\n",
      "[nltk_data]   Package vader_lexicon is already up-to-date!\n"
     ]
    },
    {
     "data": {
      "text/plain": [
       "True"
      ]
     },
     "execution_count": 6,
     "metadata": {},
     "output_type": "execute_result"
    }
   ],
   "source": [
    "import pandas as pd\n",
    "import numpy as np\n",
    "import os\n",
    "import requests\n",
    "from bs4 import BeautifulSoup\n",
    "from urllib.request import Request, urlopen\n",
    "import spacy\n",
    "from spacy.tokens import Doc, Span, Token\n",
    "import nltk\n",
    "from nltk.sentiment.vader import SentimentIntensityAnalyzer\n",
    "import random\n",
    "import datetime\n",
    "import time\n",
    "from selenium import webdriver\n",
    "from selenium.webdriver.common.keys import Keys\n",
    "import shutil\n",
    "import glob\n",
    "import webbrowser\n",
    "nltk.download('vader_lexicon')"
   ]
  },
  {
   "cell_type": "code",
   "execution_count": 2,
   "id": "b10395d1",
   "metadata": {},
   "outputs": [],
   "source": [
    "# Use to download additional Spacy models\n",
    "#spacy.cli.download(\"en\")"
   ]
  },
  {
   "cell_type": "code",
   "execution_count": 3,
   "id": "873897e3",
   "metadata": {},
   "outputs": [
    {
     "data": {
      "text/plain": [
       "'/Users/Aqqes/Documents/GitHub/google_news_sentiment_analysis'"
      ]
     },
     "execution_count": 3,
     "metadata": {},
     "output_type": "execute_result"
    }
   ],
   "source": [
    "username = os.getlogin()\n",
    "os.getcwd()"
   ]
  },
  {
   "cell_type": "code",
   "execution_count": 4,
   "id": "c02756b6",
   "metadata": {},
   "outputs": [],
   "source": [
    "# Use if on Home Desktop\n",
    "#os.chdir(\"\\\\Users\\\\%s\\\\Documents\\\\GitHub\\\\finance\\\\google_news_stock_sentiment\" %(username))\n",
    "os.chdir(\"/Users/%s/Documents/GitHub/google_news_sentiment_analysis\" %(username))"
   ]
  },
  {
   "cell_type": "code",
   "execution_count": 7,
   "id": "54440a3e",
   "metadata": {},
   "outputs": [],
   "source": [
    "# Defining what to search for and what website to search for it on\n",
    "search_query = 'tesla'\n",
    "html_files_folder = \"google_search_html_files\""
   ]
  },
  {
   "cell_type": "code",
   "execution_count": 8,
   "id": "65088fe2",
   "metadata": {},
   "outputs": [],
   "source": [
    "# Creating empty dataframe and lists to store data\n",
    "article_df = pd.DataFrame()\n",
    "article_df['article_id'] = \"\"\n",
    "article_df['title'] = \"\"\n",
    "article_df['time'] = \"\"\n",
    "article_df['retrieval_date'] = \"\"\n",
    "article_df['description'] = \"\"\n",
    "article_df['link'] = \"\"\n",
    "title_list = []\n",
    "description_list = []\n",
    "time_list = []\n",
    "link_list = []\n",
    "article_id_list = []"
   ]
  },
  {
   "cell_type": "code",
   "execution_count": null,
   "id": "c0fbf26a",
   "metadata": {},
   "outputs": [],
   "source": [
    "import time\n",
    "driver = webdriver.Chrome(executable_path='Chrome_Driver/chromedriver')\n",
    "driver.get(\"https://www.google.com/search?q=%s&client=firefox-b-1-d&channel=nus5&source=lnms&tbm=nws&sa=X&ved=2ahUKEwiN_vnX5fDyAhVvkeAKHRhoDqYQ_AUoAXoECAEQAw&biw=1284&bih=884\"\\\n",
    "%(search_query))"
   ]
  },
  {
   "cell_type": "code",
   "execution_count": null,
   "id": "5e995230",
   "metadata": {},
   "outputs": [],
   "source": [
    "#Navigating through the pages by selecting the next button\n",
    "import time\n",
    "driver = webdriver.Chrome(executable_path='Chrome_Driver/chromedriver')\n",
    "driver.get(\"https://www.google.com/search?q=%s&client=firefox-b-1-d&channel=nus5&source=lnms&tbm=nws&sa=X&ved=2ahUKEwiN_vnX5fDyAhVvkeAKHRhoDqYQ_AUoAXoECAEQAw&biw=1284&bih=884\"\\\n",
    "%(search_query))\n",
    "x = 1\n",
    "file = open(\"%s_google_query_%s.html\"%(search_query, str(x)), 'w')\n",
    "file.write(driver.page_source)\n",
    "file.close()\n",
    "shutil.move(\"%s_google_query_%s.html\"%(search_query,str(x)),\\\n",
    "               \"%s/%s_google_query_%s.html\"%(html_files_folder,search_query, str(x)))\n",
    "\n",
    "pages_to_click = 33\n",
    "new_buttons = driver.find_elements_by_class_name(\"fl\")\n",
    "\n",
    "for i in range(1,pages_to_click):\n",
    "    try:\n",
    "        next_page = driver.find_element_by_link_text(\"Next\")\n",
    "        next_page.click()\n",
    "        time.sleep(3)\n",
    "        file = open('%s_google_query_%s.html'%(search_query,str(x)), 'w')\n",
    "        file.write(driver.page_source)\n",
    "        file.close()\n",
    "        shutil.move(\"%s_google_query_%s.html\"%(search_query,str(x)),\\\n",
    "                   \"%s/%s_google_query_%s.html\"%(html_files_folder,search_query, str(x)))\n",
    "        x+=1\n",
    "    except:\n",
    "        time.sleep(3)\n",
    "        file = open('%s_google_query_%s.html'%(search_query,str(x)), 'w')\n",
    "        file.write(driver.page_source)\n",
    "        file.close()\n",
    "        shutil.move(\"%s_google_query_%s.html\"%(search_query,str(x)),\\\n",
    "                   \"%s/%s_google_query_%s.html\"%(html_files_folder,search_query, str(x)))\n",
    "        break\n",
    "\n",
    "driver.close()"
   ]
  },
  {
   "cell_type": "code",
   "execution_count": null,
   "id": "018d2a9a",
   "metadata": {},
   "outputs": [],
   "source": [
    "html_file_list = glob.glob(\"google_search_html_files/*%s*.html\"%(search_query))"
   ]
  },
  {
   "cell_type": "code",
   "execution_count": null,
   "id": "969e275b",
   "metadata": {},
   "outputs": [],
   "source": [
    "# Note that google news HTML references may change at any time\n",
    "# In order for this cell to work you may need to update the item.find lines to find the most recent data\n",
    "for file in html_file_list:\n",
    "    soup = BeautifulSoup(open(file))\n",
    "    for item in soup.find_all('div', attrs={'class':'dbsr'}):\n",
    "        raw_link = (item.find('a',href=True)['href'])\n",
    "        link = raw_link\n",
    "        title = (item.find('div',attrs={'class':\"JheGif nDgy9d\"}).get_text())\n",
    "        article_info = (item.find('div',attrs={'class':\"Y3v8qd\"}).get_text())\n",
    "        time = (item.find('span',attrs={'class':\"WG9SHc\"}).get_text())\n",
    "        description = article_info\n",
    "        title_list.append(title)\n",
    "        description_list.append(description)\n",
    "        time_list.append(time)\n",
    "        link_list.append(link)\n",
    "        article_id_list.append(random.randint(10000,99999))\n",
    "        print(file)"
   ]
  },
  {
   "cell_type": "code",
   "execution_count": null,
   "id": "2c470adc",
   "metadata": {},
   "outputs": [],
   "source": [
    "# Adding data to dataframe\n",
    "article_df['title'] = title_list\n",
    "article_df['time'] = time_list\n",
    "article_df['description'] = description_list\n",
    "article_df['link'] = link_list\n",
    "article_df['article_id'] = article_id_list\n",
    "article_df['retrieval_date'] = (datetime.date.today()).strftime(\"%m/%d/%Y\")"
   ]
  },
  {
   "cell_type": "code",
   "execution_count": null,
   "id": "e8ed6e8b",
   "metadata": {},
   "outputs": [],
   "source": [
    "print(\"Total Articles Retrieved:\",len(article_df))"
   ]
  },
  {
   "cell_type": "code",
   "execution_count": null,
   "id": "e7a66f4e",
   "metadata": {},
   "outputs": [],
   "source": [
    "article_df"
   ]
  },
  {
   "cell_type": "code",
   "execution_count": null,
   "id": "e98cf282",
   "metadata": {},
   "outputs": [],
   "source": [
    "#Create a function to get the sentiment\n",
    "sid = SentimentIntensityAnalyzer()\n",
    "\n",
    "def get_sentiment(doc):\n",
    "    sentiment_dict = sid.polarity_scores(doc.text)\n",
    "    sentiment_score = sentiment_dict['compound']\n",
    "    doc._.set(\"sentiment_score\", sentiment_score)\n",
    "    if sentiment_score == 0:\n",
    "        doc._.set(\"sentiment_category\", \"neutral\")\n",
    "    elif sentiment_score > 0:\n",
    "        doc._.set(\"sentiment_category\", \"positive\")\n",
    "    elif sentiment_score < 0:\n",
    "        doc._.set(\"sentiment_category\", \"negative\")\n",
    "    else:\n",
    "        pass\n",
    "    return doc"
   ]
  },
  {
   "cell_type": "code",
   "execution_count": null,
   "id": "2c4c67f9",
   "metadata": {},
   "outputs": [],
   "source": [
    "nlp = spacy.load('en_core_web_sm')\n",
    "Doc.set_extension(\"sentiment_score\", default=None, force=True)\n",
    "Doc.set_extension(\"sentiment_category\", default=None, force=True)\n",
    "nlp.add_pipe(get_sentiment, last=True)\n",
    "print(nlp.pipe_names)"
   ]
  },
  {
   "cell_type": "code",
   "execution_count": null,
   "id": "9891dadd",
   "metadata": {
    "scrolled": true
   },
   "outputs": [],
   "source": [
    "# What specific entities were mentioned in the article descriptions?\n",
    "# for i in article_df['description'].tolist():\n",
    "#     doc = nlp(i)\n",
    "#     for entity in doc.ents:\n",
    "#          print(entity.text,\":\",entity.label_)"
   ]
  },
  {
   "cell_type": "code",
   "execution_count": null,
   "id": "6b86dbc9",
   "metadata": {},
   "outputs": [],
   "source": [
    "# What do each of the entity tags in these articles represent?\n",
    "# entity_tags =[]\n",
    "# for i in article_df['description'].tolist():\n",
    "#     doc = nlp(i)\n",
    "#     for entity in doc.ents:\n",
    "#         entity_tags.append(entity.label_)\n",
    "\n",
    "# entity_tags = set(entity_tags)\n",
    "# for tag in entity_tags:\n",
    "#     print(tag,\":\",spacy.explain(tag))\n",
    "      "
   ]
  },
  {
   "cell_type": "code",
   "execution_count": null,
   "id": "c5830278",
   "metadata": {
    "scrolled": true
   },
   "outputs": [],
   "source": [
    "# What is the sentiment socre associated with each articles description?\n",
    "# x = 0\n",
    "# for description in article_df['description'].tolist():\n",
    "#     doc = nlp(description)\n",
    "#     print(article_df['title'][x],':', doc._.sentiment_score)\n",
    "#     x+=1"
   ]
  },
  {
   "cell_type": "code",
   "execution_count": null,
   "id": "1f197cb6",
   "metadata": {},
   "outputs": [],
   "source": []
  }
 ],
 "metadata": {
  "kernelspec": {
   "display_name": "Python 3 (ipykernel)",
   "language": "python",
   "name": "python3"
  },
  "language_info": {
   "codemirror_mode": {
    "name": "ipython",
    "version": 3
   },
   "file_extension": ".py",
   "mimetype": "text/x-python",
   "name": "python",
   "nbconvert_exporter": "python",
   "pygments_lexer": "ipython3",
   "version": "3.7.0"
  }
 },
 "nbformat": 4,
 "nbformat_minor": 5
}
