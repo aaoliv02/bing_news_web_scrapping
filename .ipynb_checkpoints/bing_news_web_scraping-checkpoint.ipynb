{
 "cells": [
  {
   "cell_type": "code",
   "execution_count": 17,
   "id": "2d094020",
   "metadata": {},
   "outputs": [],
   "source": [
    "!source activate NLP"
   ]
  },
  {
   "cell_type": "code",
   "execution_count": 18,
   "id": "3ba01745",
   "metadata": {},
   "outputs": [
    {
     "name": "stderr",
     "output_type": "stream",
     "text": [
      "[nltk_data] Downloading package vader_lexicon to\n",
      "[nltk_data]     /Users/Aqqes/nltk_data...\n",
      "[nltk_data]   Package vader_lexicon is already up-to-date!\n"
     ]
    },
    {
     "data": {
      "text/plain": [
       "True"
      ]
     },
     "execution_count": 18,
     "metadata": {},
     "output_type": "execute_result"
    }
   ],
   "source": [
    "import pandas as pd\n",
    "import numpy as np\n",
    "import os\n",
    "import requests\n",
    "from bs4 import BeautifulSoup\n",
    "from urllib.request import Request, urlopen\n",
    "import spacy\n",
    "from spacy.tokens import Doc, Span, Token\n",
    "import nltk\n",
    "from nltk.sentiment.vader import SentimentIntensityAnalyzer\n",
    "import random\n",
    "from datetime import date, timedelta\n",
    "import time\n",
    "from selenium import webdriver\n",
    "from selenium.webdriver.common.keys import Keys\n",
    "import shutil\n",
    "import glob\n",
    "import webbrowser\n",
    "from spacytextblob.spacytextblob import SpacyTextBlob\n",
    "nltk.download('vader_lexicon')"
   ]
  },
  {
   "cell_type": "code",
   "execution_count": 3,
   "id": "b10395d1",
   "metadata": {},
   "outputs": [],
   "source": [
    "# Use to download additional Spacy models\n",
    "#spacy.cli.download(\"en\")"
   ]
  },
  {
   "cell_type": "code",
   "execution_count": 3,
   "id": "873897e3",
   "metadata": {},
   "outputs": [
    {
     "data": {
      "text/plain": [
       "'/Users/Aqqes/Documents/GitHub/bing_news_sentiment_analysis'"
      ]
     },
     "execution_count": 3,
     "metadata": {},
     "output_type": "execute_result"
    }
   ],
   "source": [
    "username = os.getlogin()\n",
    "os.getcwd()"
   ]
  },
  {
   "cell_type": "code",
   "execution_count": 4,
   "id": "c02756b6",
   "metadata": {},
   "outputs": [],
   "source": [
    "# Use if on Home Desktop\n",
    "#os.chdir(\"\\\\Users\\\\%s\\\\Documents\\\\GitHub\\\\finance\\\\google_news_stock_sentiment\" %(username))\n",
    "os.chdir(\"/Users/%s/Documents/GitHub/bing_news_sentiment_analysis\" %(username))"
   ]
  },
  {
   "cell_type": "code",
   "execution_count": 5,
   "id": "54440a3e",
   "metadata": {},
   "outputs": [],
   "source": [
    "# Defining what to search for and what website to search for it on\n",
    "search_query = 'IBM'\n",
    "html_files_folder = \"bing_news_html_files\""
   ]
  },
  {
   "cell_type": "code",
   "execution_count": 6,
   "id": "65088fe2",
   "metadata": {},
   "outputs": [],
   "source": [
    "# Creating empty dataframe and lists to store data\n",
    "article_df = pd.DataFrame()\n",
    "article_df['article_id'] = \"\"\n",
    "article_df['headline'] = \"\"\n",
    "article_df['time'] = \"\"\n",
    "article_df['retrieval_date'] = \"\"\n",
    "article_df['description'] = \"\"\n",
    "article_df['link'] = \"\"\n",
    "title_list = []\n",
    "description_list = []\n",
    "time_list = []\n",
    "link_list = []\n",
    "article_id_list = []"
   ]
  },
  {
   "cell_type": "code",
   "execution_count": 11,
   "id": "5e995230",
   "metadata": {},
   "outputs": [],
   "source": [
    "#Navigating through the pages by selecting the next button\n",
    "import time\n",
    "driver = webdriver.Chrome(executable_path='Chrome_Driver/chromedriver')\n",
    "driver.get(\"https://www.bing.com/news/search?q=%s\"\\\n",
    "%(search_query))\n",
    "\n",
    "SCROLL_PAUSE_TIME = 1\n",
    "\n",
    "# Get scroll height\n",
    "last_height = driver.execute_script(\"return document.body.scrollHeight\")\n",
    "\n",
    "while True:\n",
    "    # Scroll down to bottom\n",
    "    driver.execute_script(\"window.scrollTo(0, document.body.scrollHeight);\")\n",
    "\n",
    "    # Wait to load page\n",
    "    time.sleep(SCROLL_PAUSE_TIME)\n",
    "\n",
    "    # Calculate new scroll height and compare with last scroll height\n",
    "    new_height = driver.execute_script(\"return document.body.scrollHeight\")\n",
    "    if new_height == last_height:\n",
    "        break\n",
    "    last_height = new_height\n",
    "\n",
    "\n",
    "file = open(\"%s_bing_query.html\"%(search_query), 'w')\n",
    "file.write(driver.page_source)\n",
    "file.close()\n",
    "shutil.move(\"%s_bing_query.html\"%(search_query),\\\n",
    "               \"%s/%s_bing_query.html\"%(html_files_folder,search_query))\n",
    "\n",
    "\n",
    "driver.close()"
   ]
  },
  {
   "cell_type": "code",
   "execution_count": 7,
   "id": "018d2a9a",
   "metadata": {},
   "outputs": [
    {
     "data": {
      "text/plain": [
       "['bing_news_html_files/IBM_bing_query.html']"
      ]
     },
     "execution_count": 7,
     "metadata": {},
     "output_type": "execute_result"
    }
   ],
   "source": [
    "html_file_list = glob.glob(\"bing_news_html_files/*%s*.html\"%(search_query))\n",
    "html_file_list"
   ]
  },
  {
   "cell_type": "code",
   "execution_count": 8,
   "id": "969e275b",
   "metadata": {},
   "outputs": [
    {
     "name": "stdout",
     "output_type": "stream",
     "text": [
      "IBM has a free online learning platform called SkillsBuild for teenage students who are interested in tech careers\n",
      "Dish Network Enlists IBM to Help Build 5G Network\n",
      "IBM (IBM) Dips More Than Broader Markets: What You Should Know\n",
      "Virescent Infrastructure Embarks on Hybrid Cloud Journey With IBM and SAP to Accelerate Sustainable Business Growth\n",
      "IBM unveils new generation of IBM Power servers for frictionless, scalable hybrid cloud\n",
      "DISH partners with IBM for new cloud-native 5G network\n",
      "IBM's (NYSE:IBM) Underwhelming Returns have Potentially Bottomed\n",
      "IBM unveils new generation of IBM power servers\n",
      "IBM Focuses on AI Business, Adds New Features to Watson\n",
      "DISH Taps IBM’s AI-powered Automation and Intent-driven Network Orchestration\n",
      "Zafin Expands Collaboration with IBM to Help Financial Institutions Accelerate Modernization ...\n",
      "IBM Canada Survey: Cybercrime and security risks at government level have more than 9 in 10 tech leaders concerned\n",
      "IBM report finds two-thirds of cloud breaches traced to misconfigured APIs\n",
      "IBM unveils new generation of IBM Power servers for frictionless, scalable hybrid cloud\n",
      "IBM (IBM) Gains As Market Dips: What You Should Know\n",
      "IBM details the Power E1080, its next-gen server\n",
      "No Patch for High-Severity Bug in Legacy IBM System X Servers\n",
      "IntelePeer Adds Voice to IBM Waston Virtual Agent\n",
      "IBM Cloud's Serverless Roadmap goes from soup to nuts\n",
      "Data Protector Market Boosting the Growth Worldwide | Micro Focus, HP, IBM\n",
      "New IBM Power E1080 server promises dramatic increases in energy efficiency, power\n",
      "IBM takes wraps off E1080 Power 10 server for hybrid cloud\n",
      "IBM ships high-density tape drives based on lastest spec\n",
      "IBM launches Watson Assistant capabilities for call center automation\n",
      "ESPN and IBM unveil new fantasy football trade features with help from Watson AI\n",
      "IBM Expands Hybrid Cloud Portfolio with Power10 E1080 Server\n",
      "Switch Health joins with IBM to launch AuraPass, a privacy-first vaccine and testing verification system\n",
      "IBM intros new generation of IBM Power servers\n",
      "IBM's $1.5B GlobalFoundries Suit Sees Fraud Claim Deleted\n",
      "IBM Introduces the Latest Power E1080 Server for Hybrid Cloud\n",
      "IBM Watson Launches New AI and Automation Features to Help Businesses Transform Customer Service\n",
      "IBM Introduces its First Power10-based Server, the Power E1080; Targets Hybrid Cloud\n",
      "IBM Watson Assistant Gains 3 New AI Features\n",
      "IBM Watson Assistant aims to expand contact center footprint with AI, automation updates\n",
      "IBM Power E1080 server introduced for scalable hybrid cloud applications\n",
      "Dish Selects IBM for AI for 5G Network\n",
      "Sema4 names IBM Research veteran as first chief science officer\n",
      "Artificial intelligence (AI) in Supply Chain and Logistics Market Experience a Tremendous Growth in Near Future | Alibaba, Tencent, Facebook, IBM\n",
      "Sumo Logic and IBM Expand Collaboration to Accelerate Hybrid Cloud Adoption with Marketplace Availability and Red Hat OpenShift Operator Integration\n",
      "IBM Introduces Next Generation IBM Power Server for Hybrid Cloud\n",
      "IBM announces Telum chip\n",
      "Big Data Services Market Observing Strong Growth by Hitachi, MarkLogic, 10gen, IBM\n",
      "IBM Adds New Features to Watson Assistant for Call Centers\n",
      "Partnership between IBM spin out Kyndryl and Lenovo on ‘Infrastructure-as-a-Service’ highlighted at Tech World\n",
      "DISH Selects IBM's AI-Powered Automation and Network Orchestration Software and Services for New Cloud-Native 5G Network\n",
      "IBM’s Power E1080 Server Announcement\n",
      "Conversational AI Market Giants Spending Is Going To Boom | Google, IBM, Rulai, Avaamo\n",
      "Social Media Analytics Market Value Projected to Expand by 2027 | IBM, Sysomos Frequent\n",
      "Examine the Growing Ambitions of Major Technology Companies in Healthcare with Case Studies from Amazon, Steth, Microsoft, Apple, Google, IBM\n",
      "IBM Research and Arctoris accelerate closed loop drug discovery with AI and Cloud\n",
      "Location Intelligence & Business Lntelligence Market will Witness Huge Growth till 2027 & Covid-19 Analysis | IBM, ESRI\n",
      "IBM asks for more time to respond to whistleblower’s false audit complaint involving IRS\n",
      "Switch Health joins with IBM to launch AuraPass, a privacy-first vaccine and testing verification system\n",
      "Kyndryl Taps Former IBM Executive Harsh Chugh For COO Role\n",
      "IBM joins Dish Network vendor list\n",
      "International Business Machines Corporation (NYSE:IBM) Is -1.12% Lower Than A Week Ago, Can It Hit Well Above -$2.23?\n",
      "International Business Machines Corporation (IBM) Recovers 30.92% From Low: Getting Back In The Catbird Seat?\n",
      "IBM paid Pa. $33M to settle lawsuit over jobless benefits computer project\n",
      "Business Process Outsourcing (BPO) Market is Set to Experience a Revolutionary Growth | IBM, Cognizant, Infosys\n",
      "Fiserv and IBM Top Annual IDC FinTech Rankings Top 100 and Top 25 Enterprise; Temenos and Zoloz Tie for Overall Real Results Winner\n",
      "Exium, IBM Collaborate to Secure Edge Compute for AI and IoT Applications\n",
      "Worldwide Server Industry to 2028 - Featuring Huawei Technologies, IBM and Inspur Technologies Among Others\n",
      "Protect This Cloud: How IBM Security Guardium Data Protection Helps Secure AWS Environments\n",
      "Internet Of Things In Retail Market Next Big Thing : Major Giants IBM, Impinj, Allerin Tech\n",
      "ASX tech stocks: Total Brain confirms it’s underway with live IBM rollout, shares tick higher\n",
      "IBM launches rapid new server systems based on 7nm chip\n",
      "Afternoon Coffee: IBM procurement webinar targets digital transformation; Ida flooding, damage spurs infrastructure focus\n",
      "CORRECTING and REPLACING Fiserv and IBM Top Annual IDC FinTech Rankings Top 100 and Top 25 Enterprise; Temenos and Zoloz Tie for Overall Real Results Winner\n",
      "Akasia Collaborates with IBM to Offer Modeling Solution to Help Enterprises Identify Cost-Effective Cloud Configurations\n",
      "Internet of things (IOT) in retail Market Size 2021 And Analysis By Top Keyplayers – Intel, Microsoft, PTC, IBM\n",
      "Sumo Logic and IBM Expand Collaboration to Accelerate Hybrid Cloud Adoption with Marketplace ...\n",
      "Cloud Computing in Government Market to Eyewitness Massive Growth by Microsoft Computer Software, Amazon, IBM\n",
      "Cloud Database Market Growing Demand, Future Trends, Competitive Regions and Forecast 2021 to 2027 - Amazon, Oracle, IBM, Microsoft, Google\n",
      "Temenos and IBM Collaborate to Accelerate Hybrid Cloud Adoption in the Financial Services Industry\n",
      "Medical Publishing Market 2021 Potential and Revenue Growth | Wolters Kluwer, RELX Group, IBM\n",
      "IBM Telum: Using Silicon to Address Evolving Business Challenges\n",
      "IBM Vs. Microsoft Stock: Which Is The Better Buy?\n",
      "Did IBM Just Preview The Future of Caches?\n",
      "Data Center IT Equipment Market to Eyewitness Massive Growth by 2028: Cisco Systems, Emerson Network, IBM\n",
      "Change and Configuration Management Software Market Future Scope including key players HPE, IBM, Microsoft\n",
      "Global IT Spending by Audit Firms Market Recent Trends 2021-2027 | Cisco, Dell, IBM, Microsoft, Accenture\n",
      "CVS – IBM Watson Assistant Gains 3 New AI Features\n",
      "Spend Analysis Software Market to Witness Huge Growth by 2026: IBM,Proactis, Jaggaer\n",
      "Outlook on the Deep Packet Inspection Global Market to 2027 - Featuring IBM, Cisco Systems and Extreme Networks Among Others - ResearchAndMarkets.com\n",
      "Email Marketing Market is Going to Boom: MailChimp, Pardot, IBM, AWeber\n",
      "3 Reasons to Buy IBM, and 1 Reason to Sell\n",
      "IBM Re-Architects The Mainframe With New Telum Processor\n",
      "Attack Of The Clones: How IBM Lost Control Of The PC Market\n",
      "IBM Unveils On-Chip Accelerated Artificial Intelligence Processor\n",
      "Better Dividend Stock: AT&T or IBM\n",
      "Why IBM i applications aren’t going anywhere\n",
      "How IBM is using AI to deliver insights and stats to US Open fans\n",
      "IBM Unveils On-Chip Accelerated Artificial Intelligence Processor\n",
      "Where Will IBM Stock Be In 5 Years? The Sum Vs. The Parts\n",
      "IBM (IBM) Stock Sinks As Market Gains: What You Should Know\n",
      "IBM Unveils On-Chip Accelerated Artificial Intelligence Processor\n",
      "The Mexican computer that could be as big as IBM or Apple\n",
      "IBM quantum computing: From healthcare to automotive to energy, real use cases are in play\n",
      "Why Lying About Storage Products Is Bad: An IBM DeskStar Story\n",
      "IBM (IBM) Up 1.8% Since Last Earnings Report: Can It Continue?\n",
      "IBM announces new tennis power rankings, fantasy tennis teams and more ahead of US Open\n",
      "IBM (IBM) Outpaces Stock Market Gains: What You Should Know\n",
      "Buy IBM For Its Generous Dividend And Improving Outlook\n",
      "IBM Telum- A New Chapter In Vertically Integrated Chip Technology\n",
      "IBM unveils Telum to combat financial fraud in real time\n",
      "IBM Unveils On-Chip Accelerated Artificial Intelligence Processor\n",
      "IBM Unveils On-Chip Accelerated AI Processor\n",
      "IBM Bets Big On Native Inference With Big Iron\n",
      "IBM Expands Zero Trust Strategy Capabilities with New SASE Services to Modernize Network Security\n",
      "IBM Unveils Chip for Accelerating AI Inference Engines\n",
      "IBM’s First CPU With On-chip AI Acceleration Detects Fraud at Lightning Speeds\n",
      "IBM and Mercedes develop \"Stolen Vehicle Help\" for Mercedes me service\n",
      "IBM Unveils On-Chip Accelerated Artificial Intelligence Processor\n",
      "That Linux lawsuit: 20 years later, SCO vs IBM may finally be ending\n",
      "IBM: Focusing on the Advancement and Protection of Cyber and Ransomware Technology\n",
      "IBM and Mercedes develop \"Stolen Vehicle Help\" for Mercedes me service\n",
      "IBM expands zero trust strategy capabilities with new SASE services to modernize network security\n",
      "IBM launches new SASE service to bolster zero-trust enterprise security\n",
      "IBM Creates Personalized Fantasy Football Experience with Updated Trade Assistant with Watson and Player Insights in ESPN Fantasy App\n",
      "IBM and Mercedes develop \"Stolen Vehicle Help\" for Mercedes me service\n",
      "IBM claims its new processor can detect fraud in real time\n",
      "IBM (IBM) Stock Sinks As Market Gains: What You Should Know\n",
      "IBM Adds AI Accelerator On Next Generation Z CPU\n",
      "IBM: Focusing on the Advancement and Protection of Cyber and Ransomware Technology\n",
      "IBM Expands Zero Trust Strategy Capabilities with New SASE Services to Modernize Network Security\n",
      "IBM and Mercedes develop \"Stolen Vehicle Help\" for Mercedes me service\n",
      "Cloud Q&A With Briana Frank of IBM Cloud: Trust is the ‘Key Missing Piece’ for Many Providers\n",
      "IBM: We stand by Malaysia through ‘thick and thin’ as we celebrate Merdeka\n",
      "IBM (IBM) Stock Sinks As Market Gains: What You Should Know\n",
      "IBM temporarily closes some US offices\n",
      "IBM's new microchip developed in Albany boosts artificial intelligence\n",
      "IBM finds ASX outage the result of trade platform not being ready for go-live\n",
      "IBM introduces Telum chips aimed at AI inferencing workloads like fraud detection\n",
      "IBM updates its mainframe processor to help AI\n",
      "IBM: Governments and enterprises need to migrate to quantum safe cryptography today\n",
      "Next-Gen IBM Mainframes Will Have On-Chip AI Accelerators\n",
      "IBM’s New System Z CPU Offers 40 Percent More Performance per Socket, Integrated AI\n",
      "IBM Expands SASE Services with Zscaler Zero-Trust Capabilities\n",
      "Accelerate Your Journey to AWS with IBM Security\n",
      "IBM’s new Telum processor speeds AI inference on-chip to detect fraud in real time\n",
      "A brief overview of IBM’s new 7 nm Telum mainframe CPU\n",
      "IBM Collaborates With Adobe to Introduce Teens to Basic Design Principles\n",
      "IBM and Mercedes develop \"Stolen Vehicle Help\" for Mercedes me service\n",
      "IBM quantum computing: From healthcare to automotive to energy, real use cases are in play\n",
      "IBM Creates Personalized Fantasy Football Experience with Updated Trade Assistant with Watson and Player Insights in ESPN Fantasy App\n",
      "American Council on Education Validates IBM Apprenticeship Program, Recommends College Credit to Participants\n",
      "IBM and Black & Veatch collaborate on AI-driven monitoring solutions\n",
      "IBM Collaborates With Adobe to Introduce Teens to Basic Design Principles\n",
      "American Council on Education Validates IBM Apprenticeship Program, Recommends College Credit to Participants\n",
      "IBM finds ASX outage the result of trade platform not being ready for go-live\n",
      "She has around 76 patents to her name, but the ones that share her daughter's name mean the most\n",
      "EEOC's Input Allowed In Consolidated IBM Age Bias Battle\n",
      "Five buildings purchased at former IBM campus\n",
      "IBM launches new SASE service to bolster zero-trust enterprise security\n",
      "IBM Software Labs to set up development centre in Ahmedabad\n",
      "Judge Says It's Too Soon To Ax 2 IBM Patents Found Abstract\n",
      "IBM's new Telum Processor is the company's first with an on-chip AI accelerator\n",
      "IBM's fastest supercomputer will be used to find better ways to produce green electricity\n",
      "Raising wages isn't enough to win the war for talent: IBM, Synchrony, Realtruck HR leaders\n",
      "Pennsylvania ends jobless-claims system lawsuit against IBM\n",
      "IBM's aims to replace best guesses with data-based decisions via new causal inference toolkit\n",
      "Mercedes-Benz, IBM Partner Up on Tech That Uses Live Data to Recover Stolen Cars\n",
      "IBM and Mercedes develop \"Stolen Vehicle Help\" for Mercedes me service\n",
      "Teardown! Inside PC Labs' IBM PC Model 5150\n",
      "Application Hosting Market Size 2021 And Forecast to 2028 | Keyplayers – Aws , Ibm , Rackspace , Google\n",
      "The Application That Birthed The IBM PC\n",
      "IBM Cloud Portfolio 2021\n",
      "Meet the 20 IBM power players leading its cloud turnaround after its biggest leadership shakeup under new CEO Arvind Krishna\n",
      "IBM (IBM) Up 1.8% Since Last Earnings Report: Can It Continue?\n",
      "IBM and the University of Tokyo Unveil Japan's Most Powerful Quantum Computer\n",
      "The IBM PC at 40: Lessons Learned\n",
      "IBM and Black & Veatch Collaborate on AI-Driven Monitoring Solutions\n",
      "IBM 5150: The journey of a PC that revolutionised computing\n",
      "IBM will require vaccines to return to the office. Read the memo the HR chief sent to its employees.\n",
      "IBM (NYSE:IBM) is Stabilizing and Needs to Perform Before Investors Regain Confidence\n",
      "IBM’s Red Hat cloud play is ‘doing fine,’ but analyst sees bigger challenges\n",
      "SPIE and IBM Quantum Name Delaware State University Professor Renu Tripathi First Recipient of $100,000 IBM-SPIE HBCU Faculty Accelerator Award\n"
     ]
    }
   ],
   "source": [
    "# Note that google news HTML references may change at any time\n",
    "# In order for this cell to work you may need to update the item.find lines to find the most recent data\n",
    "for file in html_file_list:\n",
    "    soup = BeautifulSoup(open(file))\n",
    "    for item in soup.find_all('div', attrs={'class':'news-card newsitem cardcommon b_cards2'}):\n",
    "        raw_link = (item.find('a',href=True)['href'])\n",
    "        link = raw_link\n",
    "        title = (item.find('a',attrs={'class':\"title\"}).get_text())\n",
    "        article_info = (item.find('div',attrs={'class':\"snippet\"}).get_text())\n",
    "        time = (item.find('span',attrs={'tabindex':\"0\"}).get_text())\n",
    "        description = article_info\n",
    "        title_list.append(title)\n",
    "        description_list.append(description)\n",
    "        time_list.append(time)\n",
    "        link_list.append(link)\n",
    "        article_id_list.append(random.randint(10000,99999))\n",
    "        print(title)"
   ]
  },
  {
   "cell_type": "code",
   "execution_count": 9,
   "id": "2c470adc",
   "metadata": {},
   "outputs": [],
   "source": [
    "# Adding data to dataframe\n",
    "article_df['headline'] = title_list\n",
    "article_df['time'] = time_list\n",
    "article_df['description'] = description_list\n",
    "article_df['link'] = link_list\n",
    "article_df['article_id'] = article_id_list\n",
    "article_df['retrieval_date'] = (date.today()).strftime(\"%m/%d/%Y\")"
   ]
  },
  {
   "cell_type": "code",
   "execution_count": 10,
   "id": "e8ed6e8b",
   "metadata": {},
   "outputs": [
    {
     "name": "stdout",
     "output_type": "stream",
     "text": [
      "Total Articles Retrieved: 177\n"
     ]
    }
   ],
   "source": [
    "print(\"Total Articles Retrieved:\",len(article_df))"
   ]
  },
  {
   "cell_type": "code",
   "execution_count": 11,
   "id": "e7a66f4e",
   "metadata": {},
   "outputs": [
    {
     "data": {
      "text/html": [
       "<div>\n",
       "<style scoped>\n",
       "    .dataframe tbody tr th:only-of-type {\n",
       "        vertical-align: middle;\n",
       "    }\n",
       "\n",
       "    .dataframe tbody tr th {\n",
       "        vertical-align: top;\n",
       "    }\n",
       "\n",
       "    .dataframe thead th {\n",
       "        text-align: right;\n",
       "    }\n",
       "</style>\n",
       "<table border=\"1\" class=\"dataframe\">\n",
       "  <thead>\n",
       "    <tr style=\"text-align: right;\">\n",
       "      <th></th>\n",
       "      <th>article_id</th>\n",
       "      <th>headline</th>\n",
       "      <th>time</th>\n",
       "      <th>retrieval_date</th>\n",
       "      <th>description</th>\n",
       "      <th>link</th>\n",
       "    </tr>\n",
       "  </thead>\n",
       "  <tbody>\n",
       "    <tr>\n",
       "      <th>0</th>\n",
       "      <td>50261</td>\n",
       "      <td>IBM has a free online learning platform called...</td>\n",
       "      <td>4d</td>\n",
       "      <td>09/19/2021</td>\n",
       "      <td>IBM's SkillsBuild program offers online course...</td>\n",
       "      <td>https://www.businessinsider.com/ibm-free-onlin...</td>\n",
       "    </tr>\n",
       "    <tr>\n",
       "      <th>1</th>\n",
       "      <td>57439</td>\n",
       "      <td>Dish Network Enlists IBM to Help Build 5G Network</td>\n",
       "      <td>3d</td>\n",
       "      <td>09/19/2021</td>\n",
       "      <td>IBM will provide Dish with orchestration softw...</td>\n",
       "      <td>https://www.wsj.com/articles/dish-network-enli...</td>\n",
       "    </tr>\n",
       "    <tr>\n",
       "      <th>2</th>\n",
       "      <td>37603</td>\n",
       "      <td>IBM (IBM) Dips More Than Broader Markets: What...</td>\n",
       "      <td>3d</td>\n",
       "      <td>09/19/2021</td>\n",
       "      <td>I n the latest trading session, IBM (IBM) clos...</td>\n",
       "      <td>https://www.nasdaq.com/articles/ibm-ibm-dips-m...</td>\n",
       "    </tr>\n",
       "    <tr>\n",
       "      <th>3</th>\n",
       "      <td>87462</td>\n",
       "      <td>Virescent Infrastructure Embarks on Hybrid Clo...</td>\n",
       "      <td>3h</td>\n",
       "      <td>09/19/2021</td>\n",
       "      <td>Virescent Infrastructure Embarks on Hybrid Clo...</td>\n",
       "      <td>http://www.ptinews.com/pressrelease/49702_pres...</td>\n",
       "    </tr>\n",
       "    <tr>\n",
       "      <th>4</th>\n",
       "      <td>79845</td>\n",
       "      <td>IBM unveils new generation of IBM Power server...</td>\n",
       "      <td>10d</td>\n",
       "      <td>09/19/2021</td>\n",
       "      <td>IBM (NYSE: IBM) today announced the new IBM Po...</td>\n",
       "      <td>https://markets.businessinsider.com/news/stock...</td>\n",
       "    </tr>\n",
       "  </tbody>\n",
       "</table>\n",
       "</div>"
      ],
      "text/plain": [
       "   article_id                                           headline time  \\\n",
       "0       50261  IBM has a free online learning platform called...   4d   \n",
       "1       57439  Dish Network Enlists IBM to Help Build 5G Network   3d   \n",
       "2       37603  IBM (IBM) Dips More Than Broader Markets: What...   3d   \n",
       "3       87462  Virescent Infrastructure Embarks on Hybrid Clo...   3h   \n",
       "4       79845  IBM unveils new generation of IBM Power server...  10d   \n",
       "\n",
       "  retrieval_date                                        description  \\\n",
       "0     09/19/2021  IBM's SkillsBuild program offers online course...   \n",
       "1     09/19/2021  IBM will provide Dish with orchestration softw...   \n",
       "2     09/19/2021  I n the latest trading session, IBM (IBM) clos...   \n",
       "3     09/19/2021  Virescent Infrastructure Embarks on Hybrid Clo...   \n",
       "4     09/19/2021  IBM (NYSE: IBM) today announced the new IBM Po...   \n",
       "\n",
       "                                                link  \n",
       "0  https://www.businessinsider.com/ibm-free-onlin...  \n",
       "1  https://www.wsj.com/articles/dish-network-enli...  \n",
       "2  https://www.nasdaq.com/articles/ibm-ibm-dips-m...  \n",
       "3  http://www.ptinews.com/pressrelease/49702_pres...  \n",
       "4  https://markets.businessinsider.com/news/stock...  "
      ]
     },
     "execution_count": 11,
     "metadata": {},
     "output_type": "execute_result"
    }
   ],
   "source": [
    "article_df.head()"
   ]
  },
  {
   "cell_type": "code",
   "execution_count": 12,
   "id": "e98cf282",
   "metadata": {},
   "outputs": [],
   "source": [
    "#Create a function to get the sentiment\n",
    "sid = SentimentIntensityAnalyzer()\n",
    "\n",
    "def get_sentiment(doc):\n",
    "    sentiment_dict = sid.polarity_scores(doc.text)\n",
    "    sentiment_score = sentiment_dict['compound']\n",
    "    doc._.set(\"sentiment_score\", sentiment_score)\n",
    "    if sentiment_score == 0:\n",
    "        doc._.set(\"sentiment_category\", \"neutral\")\n",
    "    elif sentiment_score > 0:\n",
    "        doc._.set(\"sentiment_category\", \"positive\")\n",
    "    elif sentiment_score < 0:\n",
    "        doc._.set(\"sentiment_category\", \"negative\")\n",
    "    else:\n",
    "        pass\n",
    "    return doc"
   ]
  },
  {
   "cell_type": "code",
   "execution_count": 24,
   "id": "2c4c67f9",
   "metadata": {},
   "outputs": [
    {
     "ename": "OSError",
     "evalue": "[E053] Could not read config.cfg from /opt/anaconda3/envs/NLP/lib/python3.7/site-packages/en_core_web_sm/en_core_web_sm-2.3.1/config.cfg",
     "output_type": "error",
     "traceback": [
      "\u001b[0;31m---------------------------------------------------------------------------\u001b[0m",
      "\u001b[0;31mOSError\u001b[0m                                   Traceback (most recent call last)",
      "\u001b[0;32m/var/folders/5f/vxlpjy0579b4h_syhj92tyv80000gn/T/ipykernel_17657/3884043479.py\u001b[0m in \u001b[0;36m<module>\u001b[0;34m\u001b[0m\n\u001b[0;32m----> 1\u001b[0;31m \u001b[0mnlp\u001b[0m \u001b[0;34m=\u001b[0m \u001b[0mspacy\u001b[0m\u001b[0;34m.\u001b[0m\u001b[0mload\u001b[0m\u001b[0;34m(\u001b[0m\u001b[0;34m'en_core_web_sm'\u001b[0m\u001b[0;34m)\u001b[0m\u001b[0;34m\u001b[0m\u001b[0m\n\u001b[0m\u001b[1;32m      2\u001b[0m \u001b[0mDoc\u001b[0m\u001b[0;34m.\u001b[0m\u001b[0mset_extension\u001b[0m\u001b[0;34m(\u001b[0m\u001b[0;34m\"sentiment_score\"\u001b[0m\u001b[0;34m,\u001b[0m \u001b[0mdefault\u001b[0m\u001b[0;34m=\u001b[0m\u001b[0;32mNone\u001b[0m\u001b[0;34m,\u001b[0m \u001b[0mforce\u001b[0m\u001b[0;34m=\u001b[0m\u001b[0;32mTrue\u001b[0m\u001b[0;34m)\u001b[0m\u001b[0;34m\u001b[0m\u001b[0m\n\u001b[1;32m      3\u001b[0m \u001b[0mDoc\u001b[0m\u001b[0;34m.\u001b[0m\u001b[0mset_extension\u001b[0m\u001b[0;34m(\u001b[0m\u001b[0;34m\"sentiment_category\"\u001b[0m\u001b[0;34m,\u001b[0m \u001b[0mdefault\u001b[0m\u001b[0;34m=\u001b[0m\u001b[0;32mNone\u001b[0m\u001b[0;34m,\u001b[0m \u001b[0mforce\u001b[0m\u001b[0;34m=\u001b[0m\u001b[0;32mTrue\u001b[0m\u001b[0;34m)\u001b[0m\u001b[0;34m\u001b[0m\u001b[0m\n\u001b[1;32m      4\u001b[0m \u001b[0mnlp\u001b[0m\u001b[0;34m.\u001b[0m\u001b[0madd_pipe\u001b[0m\u001b[0;34m(\u001b[0m\u001b[0mget_sentiment\u001b[0m\u001b[0;34m,\u001b[0m \u001b[0mlast\u001b[0m\u001b[0;34m=\u001b[0m\u001b[0;32mTrue\u001b[0m\u001b[0;34m)\u001b[0m\u001b[0;34m\u001b[0m\u001b[0m\n\u001b[1;32m      5\u001b[0m \u001b[0mprint\u001b[0m\u001b[0;34m(\u001b[0m\u001b[0mnlp\u001b[0m\u001b[0;34m.\u001b[0m\u001b[0mpipe_names\u001b[0m\u001b[0;34m)\u001b[0m\u001b[0;34m\u001b[0m\u001b[0m\n",
      "\u001b[0;32m/opt/anaconda3/envs/NLP/lib/python3.7/site-packages/spacy/__init__.py\u001b[0m in \u001b[0;36mload\u001b[0;34m(name, vocab, disable, exclude, config)\u001b[0m\n\u001b[1;32m     50\u001b[0m     \"\"\"\n\u001b[1;32m     51\u001b[0m     return util.load_model(\n\u001b[0;32m---> 52\u001b[0;31m         \u001b[0mname\u001b[0m\u001b[0;34m,\u001b[0m \u001b[0mvocab\u001b[0m\u001b[0;34m=\u001b[0m\u001b[0mvocab\u001b[0m\u001b[0;34m,\u001b[0m \u001b[0mdisable\u001b[0m\u001b[0;34m=\u001b[0m\u001b[0mdisable\u001b[0m\u001b[0;34m,\u001b[0m \u001b[0mexclude\u001b[0m\u001b[0;34m=\u001b[0m\u001b[0mexclude\u001b[0m\u001b[0;34m,\u001b[0m \u001b[0mconfig\u001b[0m\u001b[0;34m=\u001b[0m\u001b[0mconfig\u001b[0m\u001b[0;34m\u001b[0m\u001b[0m\n\u001b[0m\u001b[1;32m     53\u001b[0m     )\n\u001b[1;32m     54\u001b[0m \u001b[0;34m\u001b[0m\u001b[0m\n",
      "\u001b[0;32m/opt/anaconda3/envs/NLP/lib/python3.7/site-packages/spacy/util.py\u001b[0m in \u001b[0;36mload_model\u001b[0;34m(name, vocab, disable, exclude, config)\u001b[0m\n\u001b[1;32m    319\u001b[0m             \u001b[0;32mreturn\u001b[0m \u001b[0mget_lang_class\u001b[0m\u001b[0;34m(\u001b[0m\u001b[0mname\u001b[0m\u001b[0;34m.\u001b[0m\u001b[0mreplace\u001b[0m\u001b[0;34m(\u001b[0m\u001b[0;34m\"blank:\"\u001b[0m\u001b[0;34m,\u001b[0m \u001b[0;34m\"\"\u001b[0m\u001b[0;34m)\u001b[0m\u001b[0;34m)\u001b[0m\u001b[0;34m(\u001b[0m\u001b[0;34m)\u001b[0m\u001b[0;34m\u001b[0m\u001b[0m\n\u001b[1;32m    320\u001b[0m         \u001b[0;32mif\u001b[0m \u001b[0mis_package\u001b[0m\u001b[0;34m(\u001b[0m\u001b[0mname\u001b[0m\u001b[0;34m)\u001b[0m\u001b[0;34m:\u001b[0m  \u001b[0;31m# installed as package\u001b[0m\u001b[0;34m\u001b[0m\u001b[0m\n\u001b[0;32m--> 321\u001b[0;31m             \u001b[0;32mreturn\u001b[0m \u001b[0mload_model_from_package\u001b[0m\u001b[0;34m(\u001b[0m\u001b[0mname\u001b[0m\u001b[0;34m,\u001b[0m \u001b[0;34m**\u001b[0m\u001b[0mkwargs\u001b[0m\u001b[0;34m)\u001b[0m\u001b[0;34m\u001b[0m\u001b[0m\n\u001b[0m\u001b[1;32m    322\u001b[0m         \u001b[0;32mif\u001b[0m \u001b[0mPath\u001b[0m\u001b[0;34m(\u001b[0m\u001b[0mname\u001b[0m\u001b[0;34m)\u001b[0m\u001b[0;34m.\u001b[0m\u001b[0mexists\u001b[0m\u001b[0;34m(\u001b[0m\u001b[0;34m)\u001b[0m\u001b[0;34m:\u001b[0m  \u001b[0;31m# path to model data directory\u001b[0m\u001b[0;34m\u001b[0m\u001b[0m\n\u001b[1;32m    323\u001b[0m             \u001b[0;32mreturn\u001b[0m \u001b[0mload_model_from_path\u001b[0m\u001b[0;34m(\u001b[0m\u001b[0mPath\u001b[0m\u001b[0;34m(\u001b[0m\u001b[0mname\u001b[0m\u001b[0;34m)\u001b[0m\u001b[0;34m,\u001b[0m \u001b[0;34m**\u001b[0m\u001b[0mkwargs\u001b[0m\u001b[0;34m)\u001b[0m\u001b[0;34m\u001b[0m\u001b[0m\n",
      "\u001b[0;32m/opt/anaconda3/envs/NLP/lib/python3.7/site-packages/spacy/util.py\u001b[0m in \u001b[0;36mload_model_from_package\u001b[0;34m(name, vocab, disable, exclude, config)\u001b[0m\n\u001b[1;32m    352\u001b[0m     \"\"\"\n\u001b[1;32m    353\u001b[0m     \u001b[0mcls\u001b[0m \u001b[0;34m=\u001b[0m \u001b[0mimportlib\u001b[0m\u001b[0;34m.\u001b[0m\u001b[0mimport_module\u001b[0m\u001b[0;34m(\u001b[0m\u001b[0mname\u001b[0m\u001b[0;34m)\u001b[0m\u001b[0;34m\u001b[0m\u001b[0m\n\u001b[0;32m--> 354\u001b[0;31m     \u001b[0;32mreturn\u001b[0m \u001b[0mcls\u001b[0m\u001b[0;34m.\u001b[0m\u001b[0mload\u001b[0m\u001b[0;34m(\u001b[0m\u001b[0mvocab\u001b[0m\u001b[0;34m=\u001b[0m\u001b[0mvocab\u001b[0m\u001b[0;34m,\u001b[0m \u001b[0mdisable\u001b[0m\u001b[0;34m=\u001b[0m\u001b[0mdisable\u001b[0m\u001b[0;34m,\u001b[0m \u001b[0mexclude\u001b[0m\u001b[0;34m=\u001b[0m\u001b[0mexclude\u001b[0m\u001b[0;34m,\u001b[0m \u001b[0mconfig\u001b[0m\u001b[0;34m=\u001b[0m\u001b[0mconfig\u001b[0m\u001b[0;34m)\u001b[0m\u001b[0;34m\u001b[0m\u001b[0m\n\u001b[0m\u001b[1;32m    355\u001b[0m \u001b[0;34m\u001b[0m\u001b[0m\n\u001b[1;32m    356\u001b[0m \u001b[0;34m\u001b[0m\u001b[0m\n",
      "\u001b[0;32m/opt/anaconda3/envs/NLP/lib/python3.7/site-packages/en_core_web_sm/__init__.py\u001b[0m in \u001b[0;36mload\u001b[0;34m(**overrides)\u001b[0m\n\u001b[1;32m     10\u001b[0m \u001b[0;34m\u001b[0m\u001b[0m\n\u001b[1;32m     11\u001b[0m \u001b[0;32mdef\u001b[0m \u001b[0mload\u001b[0m\u001b[0;34m(\u001b[0m\u001b[0;34m**\u001b[0m\u001b[0moverrides\u001b[0m\u001b[0;34m)\u001b[0m\u001b[0;34m:\u001b[0m\u001b[0;34m\u001b[0m\u001b[0m\n\u001b[0;32m---> 12\u001b[0;31m     \u001b[0;32mreturn\u001b[0m \u001b[0mload_model_from_init_py\u001b[0m\u001b[0;34m(\u001b[0m\u001b[0m__file__\u001b[0m\u001b[0;34m,\u001b[0m \u001b[0;34m**\u001b[0m\u001b[0moverrides\u001b[0m\u001b[0;34m)\u001b[0m\u001b[0;34m\u001b[0m\u001b[0m\n\u001b[0m",
      "\u001b[0;32m/opt/anaconda3/envs/NLP/lib/python3.7/site-packages/spacy/util.py\u001b[0m in \u001b[0;36mload_model_from_init_py\u001b[0;34m(init_file, vocab, disable, exclude, config)\u001b[0m\n\u001b[1;32m    518\u001b[0m         \u001b[0mdisable\u001b[0m\u001b[0;34m=\u001b[0m\u001b[0mdisable\u001b[0m\u001b[0;34m,\u001b[0m\u001b[0;34m\u001b[0m\u001b[0m\n\u001b[1;32m    519\u001b[0m         \u001b[0mexclude\u001b[0m\u001b[0;34m=\u001b[0m\u001b[0mexclude\u001b[0m\u001b[0;34m,\u001b[0m\u001b[0;34m\u001b[0m\u001b[0m\n\u001b[0;32m--> 520\u001b[0;31m         \u001b[0mconfig\u001b[0m\u001b[0;34m=\u001b[0m\u001b[0mconfig\u001b[0m\u001b[0;34m,\u001b[0m\u001b[0;34m\u001b[0m\u001b[0m\n\u001b[0m\u001b[1;32m    521\u001b[0m     )\n\u001b[1;32m    522\u001b[0m \u001b[0;34m\u001b[0m\u001b[0m\n",
      "\u001b[0;32m/opt/anaconda3/envs/NLP/lib/python3.7/site-packages/spacy/util.py\u001b[0m in \u001b[0;36mload_model_from_path\u001b[0;34m(model_path, meta, vocab, disable, exclude, config)\u001b[0m\n\u001b[1;32m    386\u001b[0m     \u001b[0mconfig_path\u001b[0m \u001b[0;34m=\u001b[0m \u001b[0mmodel_path\u001b[0m \u001b[0;34m/\u001b[0m \u001b[0;34m\"config.cfg\"\u001b[0m\u001b[0;34m\u001b[0m\u001b[0m\n\u001b[1;32m    387\u001b[0m     \u001b[0moverrides\u001b[0m \u001b[0;34m=\u001b[0m \u001b[0mdict_to_dot\u001b[0m\u001b[0;34m(\u001b[0m\u001b[0mconfig\u001b[0m\u001b[0;34m)\u001b[0m\u001b[0;34m\u001b[0m\u001b[0m\n\u001b[0;32m--> 388\u001b[0;31m     \u001b[0mconfig\u001b[0m \u001b[0;34m=\u001b[0m \u001b[0mload_config\u001b[0m\u001b[0;34m(\u001b[0m\u001b[0mconfig_path\u001b[0m\u001b[0;34m,\u001b[0m \u001b[0moverrides\u001b[0m\u001b[0;34m=\u001b[0m\u001b[0moverrides\u001b[0m\u001b[0;34m)\u001b[0m\u001b[0;34m\u001b[0m\u001b[0m\n\u001b[0m\u001b[1;32m    389\u001b[0m     \u001b[0mnlp\u001b[0m \u001b[0;34m=\u001b[0m \u001b[0mload_model_from_config\u001b[0m\u001b[0;34m(\u001b[0m\u001b[0mconfig\u001b[0m\u001b[0;34m,\u001b[0m \u001b[0mvocab\u001b[0m\u001b[0;34m=\u001b[0m\u001b[0mvocab\u001b[0m\u001b[0;34m,\u001b[0m \u001b[0mdisable\u001b[0m\u001b[0;34m=\u001b[0m\u001b[0mdisable\u001b[0m\u001b[0;34m,\u001b[0m \u001b[0mexclude\u001b[0m\u001b[0;34m=\u001b[0m\u001b[0mexclude\u001b[0m\u001b[0;34m)\u001b[0m\u001b[0;34m\u001b[0m\u001b[0m\n\u001b[1;32m    390\u001b[0m     \u001b[0;32mreturn\u001b[0m \u001b[0mnlp\u001b[0m\u001b[0;34m.\u001b[0m\u001b[0mfrom_disk\u001b[0m\u001b[0;34m(\u001b[0m\u001b[0mmodel_path\u001b[0m\u001b[0;34m,\u001b[0m \u001b[0mexclude\u001b[0m\u001b[0;34m=\u001b[0m\u001b[0mexclude\u001b[0m\u001b[0;34m,\u001b[0m \u001b[0moverrides\u001b[0m\u001b[0;34m=\u001b[0m\u001b[0moverrides\u001b[0m\u001b[0;34m)\u001b[0m\u001b[0;34m\u001b[0m\u001b[0m\n",
      "\u001b[0;32m/opt/anaconda3/envs/NLP/lib/python3.7/site-packages/spacy/util.py\u001b[0m in \u001b[0;36mload_config\u001b[0;34m(path, overrides, interpolate)\u001b[0m\n\u001b[1;32m    543\u001b[0m     \u001b[0;32melse\u001b[0m\u001b[0;34m:\u001b[0m\u001b[0;34m\u001b[0m\u001b[0m\n\u001b[1;32m    544\u001b[0m         \u001b[0;32mif\u001b[0m \u001b[0;32mnot\u001b[0m \u001b[0mconfig_path\u001b[0m \u001b[0;32mor\u001b[0m \u001b[0;32mnot\u001b[0m \u001b[0mconfig_path\u001b[0m\u001b[0;34m.\u001b[0m\u001b[0mexists\u001b[0m\u001b[0;34m(\u001b[0m\u001b[0;34m)\u001b[0m \u001b[0;32mor\u001b[0m \u001b[0;32mnot\u001b[0m \u001b[0mconfig_path\u001b[0m\u001b[0;34m.\u001b[0m\u001b[0mis_file\u001b[0m\u001b[0;34m(\u001b[0m\u001b[0;34m)\u001b[0m\u001b[0;34m:\u001b[0m\u001b[0;34m\u001b[0m\u001b[0m\n\u001b[0;32m--> 545\u001b[0;31m             \u001b[0;32mraise\u001b[0m \u001b[0mIOError\u001b[0m\u001b[0;34m(\u001b[0m\u001b[0mErrors\u001b[0m\u001b[0;34m.\u001b[0m\u001b[0mE053\u001b[0m\u001b[0;34m.\u001b[0m\u001b[0mformat\u001b[0m\u001b[0;34m(\u001b[0m\u001b[0mpath\u001b[0m\u001b[0;34m=\u001b[0m\u001b[0mconfig_path\u001b[0m\u001b[0;34m,\u001b[0m \u001b[0mname\u001b[0m\u001b[0;34m=\u001b[0m\u001b[0;34m\"config.cfg\"\u001b[0m\u001b[0;34m)\u001b[0m\u001b[0;34m)\u001b[0m\u001b[0;34m\u001b[0m\u001b[0m\n\u001b[0m\u001b[1;32m    546\u001b[0m         return config.from_disk(\n\u001b[1;32m    547\u001b[0m             \u001b[0mconfig_path\u001b[0m\u001b[0;34m,\u001b[0m \u001b[0moverrides\u001b[0m\u001b[0;34m=\u001b[0m\u001b[0moverrides\u001b[0m\u001b[0;34m,\u001b[0m \u001b[0minterpolate\u001b[0m\u001b[0;34m=\u001b[0m\u001b[0minterpolate\u001b[0m\u001b[0;34m\u001b[0m\u001b[0m\n",
      "\u001b[0;31mOSError\u001b[0m: [E053] Could not read config.cfg from /opt/anaconda3/envs/NLP/lib/python3.7/site-packages/en_core_web_sm/en_core_web_sm-2.3.1/config.cfg"
     ]
    }
   ],
   "source": [
    "nlp = spacy.load('en_core_web_sm')\n",
    "Doc.set_extension(\"sentiment_score\", default=None, force=True)\n",
    "Doc.set_extension(\"sentiment_category\", default=None, force=True)\n",
    "nlp.add_pipe(get_sentiment, last=True)\n",
    "print(nlp.pipe_names)"
   ]
  },
  {
   "cell_type": "code",
   "execution_count": null,
   "id": "bfec3d68",
   "metadata": {},
   "outputs": [],
   "source": [
    "def calculate_sentiment_score(text):\n",
    "    doc = nlp(text)\n",
    "    return doc._.sentiment_score"
   ]
  },
  {
   "cell_type": "code",
   "execution_count": null,
   "id": "3b6fb3ee",
   "metadata": {},
   "outputs": [],
   "source": [
    "def get_article_date(time_text):\n",
    "    if \"d\" in time_text:\n",
    "        days_to_subtract = int(time_text[0])\n",
    "        article_date = (datetime.today() - timedelta(days=days_to_subtract)).strftime(\"%m/%d/%Y\")\n",
    "    elif 'h' in time_text:\n",
    "        hours_to_subtract = int(time_text[0])\n",
    "        days_to_subtract  = hours_to_subtract/24\n",
    "        article_date = (datetime.today() - timedelta(days=days_to_subtract)).strftime(\"%m/%d/%Y\")\n",
    "    elif 'mon' in time_text:\n",
    "        months_to_subtract = int(time_text[0])\n",
    "        days_to_subtract  = months_to_subtract * 30\n",
    "        article_date = (datetime.today() - timedelta(days=days_to_subtract)).strftime(\"%m/%d/%Y\")\n",
    "    else:\n",
    "        article_date = None\n",
    "    return article_date\n"
   ]
  },
  {
   "cell_type": "code",
   "execution_count": null,
   "id": "ce6d2457",
   "metadata": {},
   "outputs": [],
   "source": [
    "article_df['headline_sentiment'] = article_df['headline'].apply(calculate_sentiment_score)"
   ]
  },
  {
   "cell_type": "code",
   "execution_count": null,
   "id": "0743192e",
   "metadata": {},
   "outputs": [],
   "source": [
    "article_df['description_sentiment'] = article_df['description'].apply(calculate_sentiment_score)"
   ]
  },
  {
   "cell_type": "code",
   "execution_count": null,
   "id": "f98d8d91",
   "metadata": {},
   "outputs": [],
   "source": [
    "article_df['article_date'] = article_df['time'].apply(get_article_date)"
   ]
  },
  {
   "cell_type": "code",
   "execution_count": null,
   "id": "5b22f2e1",
   "metadata": {},
   "outputs": [],
   "source": [
    "article_df.head()"
   ]
  },
  {
   "cell_type": "code",
   "execution_count": null,
   "id": "aa69e938",
   "metadata": {},
   "outputs": [],
   "source": [
    "from yahoo_fin import stock_info as si"
   ]
  },
  {
   "cell_type": "code",
   "execution_count": null,
   "id": "9891dadd",
   "metadata": {
    "scrolled": true
   },
   "outputs": [],
   "source": [
    "# What specific entities were mentioned in the article descriptions?\n",
    "# for i in article_df['description'].tolist():\n",
    "#     doc = nlp(i)\n",
    "#     for entity in doc.ents:\n",
    "#          print(entity.text,\":\",entity.label_)"
   ]
  },
  {
   "cell_type": "code",
   "execution_count": null,
   "id": "6b86dbc9",
   "metadata": {},
   "outputs": [],
   "source": [
    "# What do each of the entity tags in these articles represent?\n",
    "# entity_tags =[]\n",
    "# for i in article_df['description'].tolist():\n",
    "#     doc = nlp(i)\n",
    "#     for entity in doc.ents:\n",
    "#         entity_tags.append(entity.label_)\n",
    "\n",
    "# entity_tags = set(entity_tags)\n",
    "# for tag in entity_tags:\n",
    "#     print(tag,\":\",spacy.explain(tag))\n",
    "      "
   ]
  },
  {
   "cell_type": "code",
   "execution_count": null,
   "id": "c5830278",
   "metadata": {
    "scrolled": true
   },
   "outputs": [],
   "source": [
    "# What is the sentiment socre associated with each articles description?\n",
    "# x = 0\n",
    "# for description in article_df['description'].tolist():\n",
    "#     doc = nlp(description)\n",
    "#     print(article_df['title'][x],':', doc._.sentiment_score)\n",
    "#     x+=1"
   ]
  }
 ],
 "metadata": {
  "kernelspec": {
   "display_name": "Python 3 (ipykernel)",
   "language": "python",
   "name": "python3"
  },
  "language_info": {
   "codemirror_mode": {
    "name": "ipython",
    "version": 3
   },
   "file_extension": ".py",
   "mimetype": "text/x-python",
   "name": "python",
   "nbconvert_exporter": "python",
   "pygments_lexer": "ipython3",
   "version": "3.7.0"
  }
 },
 "nbformat": 4,
 "nbformat_minor": 5
}
