{
 "cells": [
  {
   "cell_type": "code",
   "execution_count": null,
   "id": "2d094020",
   "metadata": {},
   "outputs": [],
   "source": [
    "!source activate NLP"
   ]
  },
  {
   "cell_type": "code",
   "execution_count": 2,
   "id": "3ba01745",
   "metadata": {},
   "outputs": [
    {
     "name": "stderr",
     "output_type": "stream",
     "text": [
      "[nltk_data] Downloading package vader_lexicon to\n",
      "[nltk_data]     /Users/Aqqes/nltk_data...\n",
      "[nltk_data]   Package vader_lexicon is already up-to-date!\n"
     ]
    },
    {
     "data": {
      "text/plain": [
       "True"
      ]
     },
     "execution_count": 2,
     "metadata": {},
     "output_type": "execute_result"
    }
   ],
   "source": [
    "import pandas as pd\n",
    "import numpy as np\n",
    "import os\n",
    "import requests\n",
    "from bs4 import BeautifulSoup\n",
    "from urllib.request import Request, urlopen\n",
    "import spacy\n",
    "from spacy.tokens import Doc, Span, Token\n",
    "import nltk\n",
    "from nltk.sentiment.vader import SentimentIntensityAnalyzer\n",
    "import random\n",
    "from datetime import date, timedelta\n",
    "import time\n",
    "from selenium import webdriver\n",
    "from selenium.webdriver.common.keys import Keys\n",
    "import shutil\n",
    "import glob\n",
    "import webbrowser\n",
    "from spacytextblob.spacytextblob import SpacyTextBlob\n",
    "nltk.download('vader_lexicon')"
   ]
  },
  {
   "cell_type": "code",
   "execution_count": null,
   "id": "b10395d1",
   "metadata": {},
   "outputs": [],
   "source": [
    "# Use to download additional Spacy models\n",
    "#spacy.cli.download(\"en\")"
   ]
  },
  {
   "cell_type": "code",
   "execution_count": null,
   "id": "873897e3",
   "metadata": {},
   "outputs": [],
   "source": [
    "username = os.getlogin()\n",
    "os.getcwd()"
   ]
  },
  {
   "cell_type": "code",
   "execution_count": null,
   "id": "c02756b6",
   "metadata": {},
   "outputs": [],
   "source": [
    "# Use if on Home Desktop\n",
    "#os.chdir(\"\\\\Users\\\\%s\\\\Documents\\\\GitHub\\\\finance\\\\google_news_stock_sentiment\" %(username))\n",
    "os.chdir(\"/Users/%s/Documents/GitHub/bing_news_sentiment_analysis\" %(username))"
   ]
  },
  {
   "cell_type": "code",
   "execution_count": null,
   "id": "54440a3e",
   "metadata": {},
   "outputs": [],
   "source": [
    "# Defining what to search for and what website to search for it on\n",
    "search_query = 'IBM'\n",
    "html_files_folder = \"bing_news_html_files\""
   ]
  },
  {
   "cell_type": "code",
   "execution_count": null,
   "id": "65088fe2",
   "metadata": {},
   "outputs": [],
   "source": [
    "# Creating empty dataframe and lists to store data\n",
    "article_df = pd.DataFrame()\n",
    "article_df['article_id'] = \"\"\n",
    "article_df['headline'] = \"\"\n",
    "article_df['time'] = \"\"\n",
    "article_df['retrieval_date'] = \"\"\n",
    "article_df['description'] = \"\"\n",
    "article_df['link'] = \"\"\n",
    "title_list = []\n",
    "description_list = []\n",
    "time_list = []\n",
    "link_list = []\n",
    "article_id_list = []"
   ]
  },
  {
   "cell_type": "code",
   "execution_count": null,
   "id": "5e995230",
   "metadata": {},
   "outputs": [],
   "source": [
    "#Navigating through the pages by selecting the next button\n",
    "import time\n",
    "driver = webdriver.Chrome(executable_path='Chrome_Driver/chromedriver')\n",
    "driver.get(\"https://www.bing.com/news/search?q=%s\"\\\n",
    "%(search_query))\n",
    "\n",
    "SCROLL_PAUSE_TIME = 1\n",
    "\n",
    "# Get scroll height\n",
    "last_height = driver.execute_script(\"return document.body.scrollHeight\")\n",
    "\n",
    "while True:\n",
    "    # Scroll down to bottom\n",
    "    driver.execute_script(\"window.scrollTo(0, document.body.scrollHeight);\")\n",
    "\n",
    "    # Wait to load page\n",
    "    time.sleep(SCROLL_PAUSE_TIME)\n",
    "\n",
    "    # Calculate new scroll height and compare with last scroll height\n",
    "    new_height = driver.execute_script(\"return document.body.scrollHeight\")\n",
    "    if new_height == last_height:\n",
    "        break\n",
    "    last_height = new_height\n",
    "\n",
    "\n",
    "file = open(\"%s_bing_query.html\"%(search_query), 'w')\n",
    "file.write(driver.page_source)\n",
    "file.close()\n",
    "shutil.move(\"%s_bing_query.html\"%(search_query),\\\n",
    "               \"%s/%s_bing_query.html\"%(html_files_folder,search_query))\n",
    "\n",
    "\n",
    "driver.close()"
   ]
  },
  {
   "cell_type": "code",
   "execution_count": null,
   "id": "018d2a9a",
   "metadata": {},
   "outputs": [],
   "source": [
    "html_file_list = glob.glob(\"bing_news_html_files/*%s*.html\"%(search_query))\n",
    "html_file_list"
   ]
  },
  {
   "cell_type": "code",
   "execution_count": null,
   "id": "969e275b",
   "metadata": {},
   "outputs": [],
   "source": [
    "# Note that google news HTML references may change at any time\n",
    "# In order for this cell to work you may need to update the item.find lines to find the most recent data\n",
    "for file in html_file_list:\n",
    "    soup = BeautifulSoup(open(file))\n",
    "    for item in soup.find_all('div', attrs={'class':'news-card newsitem cardcommon b_cards2'}):\n",
    "        raw_link = (item.find('a',href=True)['href'])\n",
    "        link = raw_link\n",
    "        title = (item.find('a',attrs={'class':\"title\"}).get_text())\n",
    "        article_info = (item.find('div',attrs={'class':\"snippet\"}).get_text())\n",
    "        time = (item.find('span',attrs={'tabindex':\"0\"}).get_text())\n",
    "        description = article_info\n",
    "        title_list.append(title)\n",
    "        description_list.append(description)\n",
    "        time_list.append(time)\n",
    "        link_list.append(link)\n",
    "        article_id_list.append(random.randint(10000,99999))\n",
    "        print(title)"
   ]
  },
  {
   "cell_type": "code",
   "execution_count": null,
   "id": "2c470adc",
   "metadata": {},
   "outputs": [],
   "source": [
    "# Adding data to dataframe\n",
    "article_df['headline'] = title_list\n",
    "article_df['time'] = time_list\n",
    "article_df['description'] = description_list\n",
    "article_df['link'] = link_list\n",
    "article_df['article_id'] = article_id_list\n",
    "article_df['retrieval_date'] = (date.today()).strftime(\"%m/%d/%Y\")"
   ]
  },
  {
   "cell_type": "code",
   "execution_count": null,
   "id": "e8ed6e8b",
   "metadata": {},
   "outputs": [],
   "source": [
    "print(\"Total Articles Retrieved:\",len(article_df))"
   ]
  },
  {
   "cell_type": "code",
   "execution_count": null,
   "id": "e7a66f4e",
   "metadata": {},
   "outputs": [],
   "source": [
    "article_df.head()"
   ]
  },
  {
   "cell_type": "code",
   "execution_count": null,
   "id": "e98cf282",
   "metadata": {},
   "outputs": [],
   "source": [
    "#Create a function to get the sentiment\n",
    "sid = SentimentIntensityAnalyzer()\n",
    "\n",
    "def get_sentiment(doc):\n",
    "    sentiment_dict = sid.polarity_scores(doc.text)\n",
    "    sentiment_score = sentiment_dict['compound']\n",
    "    doc._.set(\"sentiment_score\", sentiment_score)\n",
    "    if sentiment_score == 0:\n",
    "        doc._.set(\"sentiment_category\", \"neutral\")\n",
    "    elif sentiment_score > 0:\n",
    "        doc._.set(\"sentiment_category\", \"positive\")\n",
    "    elif sentiment_score < 0:\n",
    "        doc._.set(\"sentiment_category\", \"negative\")\n",
    "    else:\n",
    "        pass\n",
    "    return doc"
   ]
  },
  {
   "cell_type": "code",
   "execution_count": 3,
   "id": "2c4c67f9",
   "metadata": {},
   "outputs": [
    {
     "name": "stderr",
     "output_type": "stream",
     "text": [
      "/opt/anaconda3/envs/NLP/lib/python3.7/site-packages/spacy/util.py:732: UserWarning: [W095] Model 'en_core_web_sm' (2.3.1) was trained with spaCy v2.3 and may not be 100% compatible with the current version (3.1.2). If you see errors or degraded performance, download a newer compatible model or retrain your custom model with the current spaCy version. For more details and available updates, run: python -m spacy validate\n",
      "  warnings.warn(warn_msg)\n"
     ]
    },
    {
     "ename": "OSError",
     "evalue": "[E053] Could not read config.cfg from /opt/anaconda3/envs/NLP/lib/python3.7/site-packages/en_core_web_sm/en_core_web_sm-2.3.1/config.cfg",
     "output_type": "error",
     "traceback": [
      "\u001b[0;31m---------------------------------------------------------------------------\u001b[0m",
      "\u001b[0;31mOSError\u001b[0m                                   Traceback (most recent call last)",
      "\u001b[0;32m/var/folders/5f/vxlpjy0579b4h_syhj92tyv80000gn/T/ipykernel_18237/3884043479.py\u001b[0m in \u001b[0;36m<module>\u001b[0;34m\u001b[0m\n\u001b[0;32m----> 1\u001b[0;31m \u001b[0mnlp\u001b[0m \u001b[0;34m=\u001b[0m \u001b[0mspacy\u001b[0m\u001b[0;34m.\u001b[0m\u001b[0mload\u001b[0m\u001b[0;34m(\u001b[0m\u001b[0;34m'en_core_web_sm'\u001b[0m\u001b[0;34m)\u001b[0m\u001b[0;34m\u001b[0m\u001b[0m\n\u001b[0m\u001b[1;32m      2\u001b[0m \u001b[0mDoc\u001b[0m\u001b[0;34m.\u001b[0m\u001b[0mset_extension\u001b[0m\u001b[0;34m(\u001b[0m\u001b[0;34m\"sentiment_score\"\u001b[0m\u001b[0;34m,\u001b[0m \u001b[0mdefault\u001b[0m\u001b[0;34m=\u001b[0m\u001b[0;32mNone\u001b[0m\u001b[0;34m,\u001b[0m \u001b[0mforce\u001b[0m\u001b[0;34m=\u001b[0m\u001b[0;32mTrue\u001b[0m\u001b[0;34m)\u001b[0m\u001b[0;34m\u001b[0m\u001b[0m\n\u001b[1;32m      3\u001b[0m \u001b[0mDoc\u001b[0m\u001b[0;34m.\u001b[0m\u001b[0mset_extension\u001b[0m\u001b[0;34m(\u001b[0m\u001b[0;34m\"sentiment_category\"\u001b[0m\u001b[0;34m,\u001b[0m \u001b[0mdefault\u001b[0m\u001b[0;34m=\u001b[0m\u001b[0;32mNone\u001b[0m\u001b[0;34m,\u001b[0m \u001b[0mforce\u001b[0m\u001b[0;34m=\u001b[0m\u001b[0;32mTrue\u001b[0m\u001b[0;34m)\u001b[0m\u001b[0;34m\u001b[0m\u001b[0m\n\u001b[1;32m      4\u001b[0m \u001b[0mnlp\u001b[0m\u001b[0;34m.\u001b[0m\u001b[0madd_pipe\u001b[0m\u001b[0;34m(\u001b[0m\u001b[0mget_sentiment\u001b[0m\u001b[0;34m,\u001b[0m \u001b[0mlast\u001b[0m\u001b[0;34m=\u001b[0m\u001b[0;32mTrue\u001b[0m\u001b[0;34m)\u001b[0m\u001b[0;34m\u001b[0m\u001b[0m\n\u001b[1;32m      5\u001b[0m \u001b[0mprint\u001b[0m\u001b[0;34m(\u001b[0m\u001b[0mnlp\u001b[0m\u001b[0;34m.\u001b[0m\u001b[0mpipe_names\u001b[0m\u001b[0;34m)\u001b[0m\u001b[0;34m\u001b[0m\u001b[0m\n",
      "\u001b[0;32m/opt/anaconda3/envs/NLP/lib/python3.7/site-packages/spacy/__init__.py\u001b[0m in \u001b[0;36mload\u001b[0;34m(name, vocab, disable, exclude, config)\u001b[0m\n\u001b[1;32m     50\u001b[0m     \"\"\"\n\u001b[1;32m     51\u001b[0m     return util.load_model(\n\u001b[0;32m---> 52\u001b[0;31m         \u001b[0mname\u001b[0m\u001b[0;34m,\u001b[0m \u001b[0mvocab\u001b[0m\u001b[0;34m=\u001b[0m\u001b[0mvocab\u001b[0m\u001b[0;34m,\u001b[0m \u001b[0mdisable\u001b[0m\u001b[0;34m=\u001b[0m\u001b[0mdisable\u001b[0m\u001b[0;34m,\u001b[0m \u001b[0mexclude\u001b[0m\u001b[0;34m=\u001b[0m\u001b[0mexclude\u001b[0m\u001b[0;34m,\u001b[0m \u001b[0mconfig\u001b[0m\u001b[0;34m=\u001b[0m\u001b[0mconfig\u001b[0m\u001b[0;34m\u001b[0m\u001b[0m\n\u001b[0m\u001b[1;32m     53\u001b[0m     )\n\u001b[1;32m     54\u001b[0m \u001b[0;34m\u001b[0m\u001b[0m\n",
      "\u001b[0;32m/opt/anaconda3/envs/NLP/lib/python3.7/site-packages/spacy/util.py\u001b[0m in \u001b[0;36mload_model\u001b[0;34m(name, vocab, disable, exclude, config)\u001b[0m\n\u001b[1;32m    319\u001b[0m             \u001b[0;32mreturn\u001b[0m \u001b[0mget_lang_class\u001b[0m\u001b[0;34m(\u001b[0m\u001b[0mname\u001b[0m\u001b[0;34m.\u001b[0m\u001b[0mreplace\u001b[0m\u001b[0;34m(\u001b[0m\u001b[0;34m\"blank:\"\u001b[0m\u001b[0;34m,\u001b[0m \u001b[0;34m\"\"\u001b[0m\u001b[0;34m)\u001b[0m\u001b[0;34m)\u001b[0m\u001b[0;34m(\u001b[0m\u001b[0;34m)\u001b[0m\u001b[0;34m\u001b[0m\u001b[0m\n\u001b[1;32m    320\u001b[0m         \u001b[0;32mif\u001b[0m \u001b[0mis_package\u001b[0m\u001b[0;34m(\u001b[0m\u001b[0mname\u001b[0m\u001b[0;34m)\u001b[0m\u001b[0;34m:\u001b[0m  \u001b[0;31m# installed as package\u001b[0m\u001b[0;34m\u001b[0m\u001b[0m\n\u001b[0;32m--> 321\u001b[0;31m             \u001b[0;32mreturn\u001b[0m \u001b[0mload_model_from_package\u001b[0m\u001b[0;34m(\u001b[0m\u001b[0mname\u001b[0m\u001b[0;34m,\u001b[0m \u001b[0;34m**\u001b[0m\u001b[0mkwargs\u001b[0m\u001b[0;34m)\u001b[0m\u001b[0;34m\u001b[0m\u001b[0m\n\u001b[0m\u001b[1;32m    322\u001b[0m         \u001b[0;32mif\u001b[0m \u001b[0mPath\u001b[0m\u001b[0;34m(\u001b[0m\u001b[0mname\u001b[0m\u001b[0;34m)\u001b[0m\u001b[0;34m.\u001b[0m\u001b[0mexists\u001b[0m\u001b[0;34m(\u001b[0m\u001b[0;34m)\u001b[0m\u001b[0;34m:\u001b[0m  \u001b[0;31m# path to model data directory\u001b[0m\u001b[0;34m\u001b[0m\u001b[0m\n\u001b[1;32m    323\u001b[0m             \u001b[0;32mreturn\u001b[0m \u001b[0mload_model_from_path\u001b[0m\u001b[0;34m(\u001b[0m\u001b[0mPath\u001b[0m\u001b[0;34m(\u001b[0m\u001b[0mname\u001b[0m\u001b[0;34m)\u001b[0m\u001b[0;34m,\u001b[0m \u001b[0;34m**\u001b[0m\u001b[0mkwargs\u001b[0m\u001b[0;34m)\u001b[0m\u001b[0;34m\u001b[0m\u001b[0m\n",
      "\u001b[0;32m/opt/anaconda3/envs/NLP/lib/python3.7/site-packages/spacy/util.py\u001b[0m in \u001b[0;36mload_model_from_package\u001b[0;34m(name, vocab, disable, exclude, config)\u001b[0m\n\u001b[1;32m    352\u001b[0m     \"\"\"\n\u001b[1;32m    353\u001b[0m     \u001b[0mcls\u001b[0m \u001b[0;34m=\u001b[0m \u001b[0mimportlib\u001b[0m\u001b[0;34m.\u001b[0m\u001b[0mimport_module\u001b[0m\u001b[0;34m(\u001b[0m\u001b[0mname\u001b[0m\u001b[0;34m)\u001b[0m\u001b[0;34m\u001b[0m\u001b[0m\n\u001b[0;32m--> 354\u001b[0;31m     \u001b[0;32mreturn\u001b[0m \u001b[0mcls\u001b[0m\u001b[0;34m.\u001b[0m\u001b[0mload\u001b[0m\u001b[0;34m(\u001b[0m\u001b[0mvocab\u001b[0m\u001b[0;34m=\u001b[0m\u001b[0mvocab\u001b[0m\u001b[0;34m,\u001b[0m \u001b[0mdisable\u001b[0m\u001b[0;34m=\u001b[0m\u001b[0mdisable\u001b[0m\u001b[0;34m,\u001b[0m \u001b[0mexclude\u001b[0m\u001b[0;34m=\u001b[0m\u001b[0mexclude\u001b[0m\u001b[0;34m,\u001b[0m \u001b[0mconfig\u001b[0m\u001b[0;34m=\u001b[0m\u001b[0mconfig\u001b[0m\u001b[0;34m)\u001b[0m\u001b[0;34m\u001b[0m\u001b[0m\n\u001b[0m\u001b[1;32m    355\u001b[0m \u001b[0;34m\u001b[0m\u001b[0m\n\u001b[1;32m    356\u001b[0m \u001b[0;34m\u001b[0m\u001b[0m\n",
      "\u001b[0;32m/opt/anaconda3/envs/NLP/lib/python3.7/site-packages/en_core_web_sm/__init__.py\u001b[0m in \u001b[0;36mload\u001b[0;34m(**overrides)\u001b[0m\n\u001b[1;32m     10\u001b[0m \u001b[0;34m\u001b[0m\u001b[0m\n\u001b[1;32m     11\u001b[0m \u001b[0;32mdef\u001b[0m \u001b[0mload\u001b[0m\u001b[0;34m(\u001b[0m\u001b[0;34m**\u001b[0m\u001b[0moverrides\u001b[0m\u001b[0;34m)\u001b[0m\u001b[0;34m:\u001b[0m\u001b[0;34m\u001b[0m\u001b[0m\n\u001b[0;32m---> 12\u001b[0;31m     \u001b[0;32mreturn\u001b[0m \u001b[0mload_model_from_init_py\u001b[0m\u001b[0;34m(\u001b[0m\u001b[0m__file__\u001b[0m\u001b[0;34m,\u001b[0m \u001b[0;34m**\u001b[0m\u001b[0moverrides\u001b[0m\u001b[0;34m)\u001b[0m\u001b[0;34m\u001b[0m\u001b[0m\n\u001b[0m",
      "\u001b[0;32m/opt/anaconda3/envs/NLP/lib/python3.7/site-packages/spacy/util.py\u001b[0m in \u001b[0;36mload_model_from_init_py\u001b[0;34m(init_file, vocab, disable, exclude, config)\u001b[0m\n\u001b[1;32m    518\u001b[0m         \u001b[0mdisable\u001b[0m\u001b[0;34m=\u001b[0m\u001b[0mdisable\u001b[0m\u001b[0;34m,\u001b[0m\u001b[0;34m\u001b[0m\u001b[0m\n\u001b[1;32m    519\u001b[0m         \u001b[0mexclude\u001b[0m\u001b[0;34m=\u001b[0m\u001b[0mexclude\u001b[0m\u001b[0;34m,\u001b[0m\u001b[0;34m\u001b[0m\u001b[0m\n\u001b[0;32m--> 520\u001b[0;31m         \u001b[0mconfig\u001b[0m\u001b[0;34m=\u001b[0m\u001b[0mconfig\u001b[0m\u001b[0;34m,\u001b[0m\u001b[0;34m\u001b[0m\u001b[0m\n\u001b[0m\u001b[1;32m    521\u001b[0m     )\n\u001b[1;32m    522\u001b[0m \u001b[0;34m\u001b[0m\u001b[0m\n",
      "\u001b[0;32m/opt/anaconda3/envs/NLP/lib/python3.7/site-packages/spacy/util.py\u001b[0m in \u001b[0;36mload_model_from_path\u001b[0;34m(model_path, meta, vocab, disable, exclude, config)\u001b[0m\n\u001b[1;32m    386\u001b[0m     \u001b[0mconfig_path\u001b[0m \u001b[0;34m=\u001b[0m \u001b[0mmodel_path\u001b[0m \u001b[0;34m/\u001b[0m \u001b[0;34m\"config.cfg\"\u001b[0m\u001b[0;34m\u001b[0m\u001b[0m\n\u001b[1;32m    387\u001b[0m     \u001b[0moverrides\u001b[0m \u001b[0;34m=\u001b[0m \u001b[0mdict_to_dot\u001b[0m\u001b[0;34m(\u001b[0m\u001b[0mconfig\u001b[0m\u001b[0;34m)\u001b[0m\u001b[0;34m\u001b[0m\u001b[0m\n\u001b[0;32m--> 388\u001b[0;31m     \u001b[0mconfig\u001b[0m \u001b[0;34m=\u001b[0m \u001b[0mload_config\u001b[0m\u001b[0;34m(\u001b[0m\u001b[0mconfig_path\u001b[0m\u001b[0;34m,\u001b[0m \u001b[0moverrides\u001b[0m\u001b[0;34m=\u001b[0m\u001b[0moverrides\u001b[0m\u001b[0;34m)\u001b[0m\u001b[0;34m\u001b[0m\u001b[0m\n\u001b[0m\u001b[1;32m    389\u001b[0m     \u001b[0mnlp\u001b[0m \u001b[0;34m=\u001b[0m \u001b[0mload_model_from_config\u001b[0m\u001b[0;34m(\u001b[0m\u001b[0mconfig\u001b[0m\u001b[0;34m,\u001b[0m \u001b[0mvocab\u001b[0m\u001b[0;34m=\u001b[0m\u001b[0mvocab\u001b[0m\u001b[0;34m,\u001b[0m \u001b[0mdisable\u001b[0m\u001b[0;34m=\u001b[0m\u001b[0mdisable\u001b[0m\u001b[0;34m,\u001b[0m \u001b[0mexclude\u001b[0m\u001b[0;34m=\u001b[0m\u001b[0mexclude\u001b[0m\u001b[0;34m)\u001b[0m\u001b[0;34m\u001b[0m\u001b[0m\n\u001b[1;32m    390\u001b[0m     \u001b[0;32mreturn\u001b[0m \u001b[0mnlp\u001b[0m\u001b[0;34m.\u001b[0m\u001b[0mfrom_disk\u001b[0m\u001b[0;34m(\u001b[0m\u001b[0mmodel_path\u001b[0m\u001b[0;34m,\u001b[0m \u001b[0mexclude\u001b[0m\u001b[0;34m=\u001b[0m\u001b[0mexclude\u001b[0m\u001b[0;34m,\u001b[0m \u001b[0moverrides\u001b[0m\u001b[0;34m=\u001b[0m\u001b[0moverrides\u001b[0m\u001b[0;34m)\u001b[0m\u001b[0;34m\u001b[0m\u001b[0m\n",
      "\u001b[0;32m/opt/anaconda3/envs/NLP/lib/python3.7/site-packages/spacy/util.py\u001b[0m in \u001b[0;36mload_config\u001b[0;34m(path, overrides, interpolate)\u001b[0m\n\u001b[1;32m    543\u001b[0m     \u001b[0;32melse\u001b[0m\u001b[0;34m:\u001b[0m\u001b[0;34m\u001b[0m\u001b[0m\n\u001b[1;32m    544\u001b[0m         \u001b[0;32mif\u001b[0m \u001b[0;32mnot\u001b[0m \u001b[0mconfig_path\u001b[0m \u001b[0;32mor\u001b[0m \u001b[0;32mnot\u001b[0m \u001b[0mconfig_path\u001b[0m\u001b[0;34m.\u001b[0m\u001b[0mexists\u001b[0m\u001b[0;34m(\u001b[0m\u001b[0;34m)\u001b[0m \u001b[0;32mor\u001b[0m \u001b[0;32mnot\u001b[0m \u001b[0mconfig_path\u001b[0m\u001b[0;34m.\u001b[0m\u001b[0mis_file\u001b[0m\u001b[0;34m(\u001b[0m\u001b[0;34m)\u001b[0m\u001b[0;34m:\u001b[0m\u001b[0;34m\u001b[0m\u001b[0m\n\u001b[0;32m--> 545\u001b[0;31m             \u001b[0;32mraise\u001b[0m \u001b[0mIOError\u001b[0m\u001b[0;34m(\u001b[0m\u001b[0mErrors\u001b[0m\u001b[0;34m.\u001b[0m\u001b[0mE053\u001b[0m\u001b[0;34m.\u001b[0m\u001b[0mformat\u001b[0m\u001b[0;34m(\u001b[0m\u001b[0mpath\u001b[0m\u001b[0;34m=\u001b[0m\u001b[0mconfig_path\u001b[0m\u001b[0;34m,\u001b[0m \u001b[0mname\u001b[0m\u001b[0;34m=\u001b[0m\u001b[0;34m\"config.cfg\"\u001b[0m\u001b[0;34m)\u001b[0m\u001b[0;34m)\u001b[0m\u001b[0;34m\u001b[0m\u001b[0m\n\u001b[0m\u001b[1;32m    546\u001b[0m         return config.from_disk(\n\u001b[1;32m    547\u001b[0m             \u001b[0mconfig_path\u001b[0m\u001b[0;34m,\u001b[0m \u001b[0moverrides\u001b[0m\u001b[0;34m=\u001b[0m\u001b[0moverrides\u001b[0m\u001b[0;34m,\u001b[0m \u001b[0minterpolate\u001b[0m\u001b[0;34m=\u001b[0m\u001b[0minterpolate\u001b[0m\u001b[0;34m\u001b[0m\u001b[0m\n",
      "\u001b[0;31mOSError\u001b[0m: [E053] Could not read config.cfg from /opt/anaconda3/envs/NLP/lib/python3.7/site-packages/en_core_web_sm/en_core_web_sm-2.3.1/config.cfg"
     ]
    }
   ],
   "source": [
    "nlp = spacy.load('en_core_web_sm')\n",
    "Doc.set_extension(\"sentiment_score\", default=None, force=True)\n",
    "Doc.set_extension(\"sentiment_category\", default=None, force=True)\n",
    "nlp.add_pipe(get_sentiment, last=True)\n",
    "print(nlp.pipe_names)"
   ]
  },
  {
   "cell_type": "code",
   "execution_count": null,
   "id": "bfec3d68",
   "metadata": {},
   "outputs": [],
   "source": [
    "def calculate_sentiment_score(text):\n",
    "    doc = nlp(text)\n",
    "    return doc._.sentiment_score"
   ]
  },
  {
   "cell_type": "code",
   "execution_count": null,
   "id": "3b6fb3ee",
   "metadata": {},
   "outputs": [],
   "source": [
    "def get_article_date(time_text):\n",
    "    if \"d\" in time_text:\n",
    "        days_to_subtract = int(time_text[0])\n",
    "        article_date = (datetime.today() - timedelta(days=days_to_subtract)).strftime(\"%m/%d/%Y\")\n",
    "    elif 'h' in time_text:\n",
    "        hours_to_subtract = int(time_text[0])\n",
    "        days_to_subtract  = hours_to_subtract/24\n",
    "        article_date = (datetime.today() - timedelta(days=days_to_subtract)).strftime(\"%m/%d/%Y\")\n",
    "    elif 'mon' in time_text:\n",
    "        months_to_subtract = int(time_text[0])\n",
    "        days_to_subtract  = months_to_subtract * 30\n",
    "        article_date = (datetime.today() - timedelta(days=days_to_subtract)).strftime(\"%m/%d/%Y\")\n",
    "    else:\n",
    "        article_date = None\n",
    "    return article_date\n"
   ]
  },
  {
   "cell_type": "code",
   "execution_count": null,
   "id": "ce6d2457",
   "metadata": {},
   "outputs": [],
   "source": [
    "article_df['headline_sentiment'] = article_df['headline'].apply(calculate_sentiment_score)"
   ]
  },
  {
   "cell_type": "code",
   "execution_count": null,
   "id": "0743192e",
   "metadata": {},
   "outputs": [],
   "source": [
    "article_df['description_sentiment'] = article_df['description'].apply(calculate_sentiment_score)"
   ]
  },
  {
   "cell_type": "code",
   "execution_count": null,
   "id": "f98d8d91",
   "metadata": {},
   "outputs": [],
   "source": [
    "article_df['article_date'] = article_df['time'].apply(get_article_date)"
   ]
  },
  {
   "cell_type": "code",
   "execution_count": null,
   "id": "5b22f2e1",
   "metadata": {},
   "outputs": [],
   "source": [
    "article_df.head()"
   ]
  },
  {
   "cell_type": "code",
   "execution_count": null,
   "id": "aa69e938",
   "metadata": {},
   "outputs": [],
   "source": [
    "from yahoo_fin import stock_info as si"
   ]
  },
  {
   "cell_type": "code",
   "execution_count": null,
   "id": "9891dadd",
   "metadata": {
    "scrolled": true
   },
   "outputs": [],
   "source": [
    "# What specific entities were mentioned in the article descriptions?\n",
    "# for i in article_df['description'].tolist():\n",
    "#     doc = nlp(i)\n",
    "#     for entity in doc.ents:\n",
    "#          print(entity.text,\":\",entity.label_)"
   ]
  },
  {
   "cell_type": "code",
   "execution_count": null,
   "id": "6b86dbc9",
   "metadata": {},
   "outputs": [],
   "source": [
    "# What do each of the entity tags in these articles represent?\n",
    "# entity_tags =[]\n",
    "# for i in article_df['description'].tolist():\n",
    "#     doc = nlp(i)\n",
    "#     for entity in doc.ents:\n",
    "#         entity_tags.append(entity.label_)\n",
    "\n",
    "# entity_tags = set(entity_tags)\n",
    "# for tag in entity_tags:\n",
    "#     print(tag,\":\",spacy.explain(tag))\n",
    "      "
   ]
  },
  {
   "cell_type": "code",
   "execution_count": null,
   "id": "c5830278",
   "metadata": {
    "scrolled": true
   },
   "outputs": [],
   "source": [
    "# What is the sentiment socre associated with each articles description?\n",
    "# x = 0\n",
    "# for description in article_df['description'].tolist():\n",
    "#     doc = nlp(description)\n",
    "#     print(article_df['title'][x],':', doc._.sentiment_score)\n",
    "#     x+=1"
   ]
  }
 ],
 "metadata": {
  "kernelspec": {
   "display_name": "Python 3 (ipykernel)",
   "language": "python",
   "name": "python3"
  },
  "language_info": {
   "codemirror_mode": {
    "name": "ipython",
    "version": 3
   },
   "file_extension": ".py",
   "mimetype": "text/x-python",
   "name": "python",
   "nbconvert_exporter": "python",
   "pygments_lexer": "ipython3",
   "version": "3.7.0"
  }
 },
 "nbformat": 4,
 "nbformat_minor": 5
}
